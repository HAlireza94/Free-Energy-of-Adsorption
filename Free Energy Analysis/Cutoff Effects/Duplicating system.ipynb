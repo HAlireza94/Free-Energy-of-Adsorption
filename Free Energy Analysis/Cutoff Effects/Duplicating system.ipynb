{
 "cells": [
  {
   "cell_type": "code",
   "execution_count": 5,
   "id": "e19d245f-dd7b-4bea-bd46-569e55563d16",
   "metadata": {},
   "outputs": [
    {
     "name": "stdout",
     "output_type": "stream",
     "text": [
      "1\n",
      "2\n"
     ]
    }
   ],
   "source": [
    "\n",
    "atoms, x, y, z = [], [], [], []\n",
    "nx, ny = 2, 2 # duplicating factors\n",
    "with open('conf.gro') as f:\n",
    "    for line in f:\n",
    "        p = line.split()\n",
    "        \n",
    "        if len(p) == 9:\n",
    "            atoms.append(p[1])\n",
    "            x.append(float(p[3]))\n",
    "            y.append(float(p[4]))\n",
    "            z.append(float(p[5]))\n",
    "        if len(p) == 3:\n",
    "            Lx = float(p[0])\n",
    "            Ly = float(p[1])\n",
    "            Lz = float(p[2])\n",
    "\n",
    "# all units are in nm\n",
    "X, Y, Z, = [], [], []\n",
    "\n",
    "for i in range(nx):\n",
    "    if i == 0:\n",
    "        X.append(x)\n",
    "        Y.append(y)\n",
    "        Z.append(z)\n",
    "    else:\n",
    "        x1 = []\n",
    "        y1 = []\n",
    "        z1 = []\n",
    "        for j in range(len(X[0])):\n",
    "            x1.append(X[i-1][j]+Lx)\n",
    "            y1.append(Y[0][j])\n",
    "            z1.append(Z[0][j])\n",
    "        X.append(x1)\n",
    "        Y.append(y1)\n",
    "        Z.append(z1)\n",
    "\n",
    "\n",
    "if ny >=2:\n",
    "    for i in range(1,ny+1):\n",
    "        print(i)\n",
    "        x1, y1, z1 = [], [], []\n",
    "        for j in range(len(X[0])):\n",
    "            x1.append(X[i-1][j])\n",
    "            y1.append(Y[i-1][j]+Ly)\n",
    "            z1.append(Z[0][j])\n",
    "        X.append(x1)\n",
    "        Y.append(y1)\n",
    "        Z.append(z1)\n",
    "\n",
    "\n",
    "ATOMS = []\n",
    "for i in range(nx*ny):\n",
    "    ATOMS.append(atoms)\n",
    "\n",
    "\n",
    "filename = f\"new-system.xyz\"\n",
    "with open(filename, 'w') as file:\n",
    "    file.write(str(nx*ny*len(X[0])) + '\\n')\n",
    "    file.write('system' + '\\n')\n",
    "    for i in range(nx*ny):\n",
    "        for j in range(len(X[0])):\n",
    "            file.write(f\"{ATOMS[i][j]:<6}{X[i][j]*10:<14.5f}{Y[i][j]*10:<14.5f}{Z[i][j]*10:<14.5f}\\n\") # converting to Angstrom\n",
    "        \n",
    "\n",
    "\n"
   ]
  }
 ],
 "metadata": {
  "kernelspec": {
   "display_name": "Python 3 (ipykernel)",
   "language": "python",
   "name": "python3"
  },
  "language_info": {
   "codemirror_mode": {
    "name": "ipython",
    "version": 3
   },
   "file_extension": ".py",
   "mimetype": "text/x-python",
   "name": "python",
   "nbconvert_exporter": "python",
   "pygments_lexer": "ipython3",
   "version": "3.11.5"
  }
 },
 "nbformat": 4,
 "nbformat_minor": 5
}
